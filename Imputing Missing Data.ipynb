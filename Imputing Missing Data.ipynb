{
 "cells": [
  {
   "cell_type": "markdown",
   "metadata": {},
   "source": [
    "# Finding and Imputing Missing Variables"
   ]
  },
  {
   "cell_type": "markdown",
   "metadata": {},
   "source": [
    "This notebook will walk through several methods for imputing missing variables, including mean/median/mode imputation, imputation by linear regression, hot deck imputation, and case deletion. If there's time, I will also explore expectation maximization imputation and Markov Chain Monte Carlo algorithm"
   ]
  },
  {
   "cell_type": "markdown",
   "metadata": {},
   "source": [
    "First, I need to:\n",
    "- Read in the data, relevant libraries, and atom file for the code\n",
    "- Find the missing data\n",
    "- Determine if the data is missing completeley at random, missing at random, or missing not at random"
   ]
  },
  {
   "cell_type": "code",
   "execution_count": 128,
   "metadata": {},
   "outputs": [
    {
     "data": {
      "text/plain": [
       "<module 'missing_data_code' from '/Users/mariomoreno/Desktop/ML Projects/Mexico OC/missing_data_code.py'>"
      ]
     },
     "execution_count": 128,
     "metadata": {},
     "output_type": "execute_result"
    }
   ],
   "source": [
    "# Importing code file\n",
    "import missing_data_code as mdc\n",
    "import importlib\n",
    "importlib.reload(mdc)"
   ]
  },
  {
   "cell_type": "code",
   "execution_count": 105,
   "metadata": {
    "collapsed": true
   },
   "outputs": [],
   "source": [
    "# Reading in data\n",
    "df = mdc.reading_in('data/Mexico_Final.xlsx')"
   ]
  },
  {
   "cell_type": "code",
   "execution_count": 106,
   "metadata": {},
   "outputs": [
    {
     "data": {
      "text/html": [
       "<div>\n",
       "<style>\n",
       "    .dataframe thead tr:only-child th {\n",
       "        text-align: right;\n",
       "    }\n",
       "\n",
       "    .dataframe thead th {\n",
       "        text-align: left;\n",
       "    }\n",
       "\n",
       "    .dataframe tbody tr th {\n",
       "        vertical-align: top;\n",
       "    }\n",
       "</style>\n",
       "<table border=\"1\" class=\"dataframe\">\n",
       "  <thead>\n",
       "    <tr style=\"text-align: right;\">\n",
       "      <th></th>\n",
       "      <th>entidad</th>\n",
       "      <th>year</th>\n",
       "      <th>alumnos_inscritos_hs</th>\n",
       "      <th>hombres_inscritos_hs</th>\n",
       "      <th>mujeres_inscritas_hs</th>\n",
       "      <th>maestros_hs</th>\n",
       "      <th>escuelas_hs</th>\n",
       "      <th>convenios_trabajo_no_juicio</th>\n",
       "      <th>conflictos_trabajo</th>\n",
       "      <th>emplazamientos_huelga</th>\n",
       "      <th>...</th>\n",
       "      <th>prod_zinc_t</th>\n",
       "      <th>prod_coque_t</th>\n",
       "      <th>prod_fierropellets_t</th>\n",
       "      <th>prod_azufre_t</th>\n",
       "      <th>prod_barita_t</th>\n",
       "      <th>prod_fluorita_t</th>\n",
       "      <th>altitud</th>\n",
       "      <th>costa_km</th>\n",
       "      <th>municipios</th>\n",
       "      <th>pop</th>\n",
       "    </tr>\n",
       "  </thead>\n",
       "  <tbody>\n",
       "    <tr>\n",
       "      <th>0</th>\n",
       "      <td>Aguascalientes</td>\n",
       "      <td>2010</td>\n",
       "      <td>40129</td>\n",
       "      <td>19250</td>\n",
       "      <td>20879</td>\n",
       "      <td>2727</td>\n",
       "      <td>144</td>\n",
       "      <td>2698</td>\n",
       "      <td>3239</td>\n",
       "      <td>325</td>\n",
       "      <td>...</td>\n",
       "      <td>0.0</td>\n",
       "      <td>0.0</td>\n",
       "      <td>3883423.0</td>\n",
       "      <td>0.0</td>\n",
       "      <td>0.0</td>\n",
       "      <td>0.0</td>\n",
       "      <td>1870</td>\n",
       "      <td>NaN</td>\n",
       "      <td>11</td>\n",
       "      <td>1195787</td>\n",
       "    </tr>\n",
       "    <tr>\n",
       "      <th>1</th>\n",
       "      <td>Baja California</td>\n",
       "      <td>2010</td>\n",
       "      <td>107624</td>\n",
       "      <td>53692</td>\n",
       "      <td>53932</td>\n",
       "      <td>6192</td>\n",
       "      <td>271</td>\n",
       "      <td>2342</td>\n",
       "      <td>9353</td>\n",
       "      <td>3241</td>\n",
       "      <td>...</td>\n",
       "      <td>0.0</td>\n",
       "      <td>0.0</td>\n",
       "      <td>3883423.0</td>\n",
       "      <td>0.0</td>\n",
       "      <td>0.0</td>\n",
       "      <td>0.0</td>\n",
       "      <td>3</td>\n",
       "      <td>1493.0</td>\n",
       "      <td>5</td>\n",
       "      <td>3224843</td>\n",
       "    </tr>\n",
       "    <tr>\n",
       "      <th>2</th>\n",
       "      <td>Baja California Sur</td>\n",
       "      <td>2010</td>\n",
       "      <td>23247</td>\n",
       "      <td>11780</td>\n",
       "      <td>11467</td>\n",
       "      <td>1588</td>\n",
       "      <td>76</td>\n",
       "      <td>1255</td>\n",
       "      <td>1660</td>\n",
       "      <td>296</td>\n",
       "      <td>...</td>\n",
       "      <td>0.0</td>\n",
       "      <td>0.0</td>\n",
       "      <td>3883423.0</td>\n",
       "      <td>0.0</td>\n",
       "      <td>0.0</td>\n",
       "      <td>0.0</td>\n",
       "      <td>10</td>\n",
       "      <td>2131.0</td>\n",
       "      <td>5</td>\n",
       "      <td>649616</td>\n",
       "    </tr>\n",
       "    <tr>\n",
       "      <th>3</th>\n",
       "      <td>Campeche</td>\n",
       "      <td>2010</td>\n",
       "      <td>28350</td>\n",
       "      <td>14349</td>\n",
       "      <td>14001</td>\n",
       "      <td>1975</td>\n",
       "      <td>106</td>\n",
       "      <td>3373</td>\n",
       "      <td>1179</td>\n",
       "      <td>144</td>\n",
       "      <td>...</td>\n",
       "      <td>0.0</td>\n",
       "      <td>0.0</td>\n",
       "      <td>3883423.0</td>\n",
       "      <td>0.0</td>\n",
       "      <td>0.0</td>\n",
       "      <td>0.0</td>\n",
       "      <td>10</td>\n",
       "      <td>425.0</td>\n",
       "      <td>11</td>\n",
       "      <td>836747</td>\n",
       "    </tr>\n",
       "    <tr>\n",
       "      <th>4</th>\n",
       "      <td>Coahuila de Zaragoza</td>\n",
       "      <td>2010</td>\n",
       "      <td>82553</td>\n",
       "      <td>41397</td>\n",
       "      <td>41156</td>\n",
       "      <td>6219</td>\n",
       "      <td>330</td>\n",
       "      <td>23331</td>\n",
       "      <td>7867</td>\n",
       "      <td>545</td>\n",
       "      <td>...</td>\n",
       "      <td>0.0</td>\n",
       "      <td>1648709.0</td>\n",
       "      <td>2567865.0</td>\n",
       "      <td>0.0</td>\n",
       "      <td>22161.0</td>\n",
       "      <td>121833.0</td>\n",
       "      <td>1700</td>\n",
       "      <td>NaN</td>\n",
       "      <td>38</td>\n",
       "      <td>2782012</td>\n",
       "    </tr>\n",
       "  </tbody>\n",
       "</table>\n",
       "<p>5 rows × 46 columns</p>\n",
       "</div>"
      ],
      "text/plain": [
       "                     entidad  year  alumnos_inscritos_hs  \\\n",
       "0  Aguascalientes             2010                 40129   \n",
       "1  Baja California            2010                107624   \n",
       "2        Baja California Sur  2010                 23247   \n",
       "3  Campeche                   2010                 28350   \n",
       "4       Coahuila de Zaragoza  2010                 82553   \n",
       "\n",
       "   hombres_inscritos_hs  mujeres_inscritas_hs  maestros_hs  escuelas_hs  \\\n",
       "0                 19250                 20879         2727          144   \n",
       "1                 53692                 53932         6192          271   \n",
       "2                 11780                 11467         1588           76   \n",
       "3                 14349                 14001         1975          106   \n",
       "4                 41397                 41156         6219          330   \n",
       "\n",
       "   convenios_trabajo_no_juicio  conflictos_trabajo  emplazamientos_huelga  \\\n",
       "0                         2698                3239                    325   \n",
       "1                         2342                9353                   3241   \n",
       "2                         1255                1660                    296   \n",
       "3                         3373                1179                    144   \n",
       "4                        23331                7867                    545   \n",
       "\n",
       "    ...     prod_zinc_t  prod_coque_t  prod_fierropellets_t  prod_azufre_t  \\\n",
       "0   ...             0.0           0.0             3883423.0            0.0   \n",
       "1   ...             0.0           0.0             3883423.0            0.0   \n",
       "2   ...             0.0           0.0             3883423.0            0.0   \n",
       "3   ...             0.0           0.0             3883423.0            0.0   \n",
       "4   ...             0.0     1648709.0             2567865.0            0.0   \n",
       "\n",
       "   prod_barita_t  prod_fluorita_t  altitud costa_km  municipios      pop  \n",
       "0            0.0              0.0     1870      NaN          11  1195787  \n",
       "1            0.0              0.0        3   1493.0           5  3224843  \n",
       "2            0.0              0.0       10   2131.0           5   649616  \n",
       "3            0.0              0.0       10    425.0          11   836747  \n",
       "4        22161.0         121833.0     1700      NaN          38  2782012  \n",
       "\n",
       "[5 rows x 46 columns]"
      ]
     },
     "execution_count": 106,
     "metadata": {},
     "output_type": "execute_result"
    }
   ],
   "source": [
    "df.head()"
   ]
  },
  {
   "cell_type": "code",
   "execution_count": 107,
   "metadata": {},
   "outputs": [
    {
     "data": {
      "text/plain": [
       "[('prod_oro_kg', 7),\n",
       " ('prod_plata_kg', 7),\n",
       " ('prod_plomo_t', 7),\n",
       " ('prod_cobre_t', 7),\n",
       " ('prod_zinc_t', 7),\n",
       " ('prod_coque_t', 7),\n",
       " ('prod_fierropellets_t', 7),\n",
       " ('prod_azufre_t', 7),\n",
       " ('prod_barita_t', 7),\n",
       " ('prod_fluorita_t', 7),\n",
       " ('costa_km', 105)]"
      ]
     },
     "execution_count": 107,
     "metadata": {},
     "output_type": "execute_result"
    }
   ],
   "source": [
    "# Finding the nulls\n",
    "null_cols = mdc.find_missing_cols(df)\n",
    "null_cols"
   ]
  },
  {
   "cell_type": "markdown",
   "metadata": {},
   "source": [
    "As we can see above, we're missing seven variables for each of the metal producing categories, and 105 variables for coastline. In order to determine if these variables are missing at random, I need to see what states correspond to the missing variables."
   ]
  },
  {
   "cell_type": "code",
   "execution_count": 108,
   "metadata": {},
   "outputs": [
    {
     "data": {
      "text/plain": [
       "{('Aguascalientes           ', 'costa_km'),\n",
       " ('Chihuahua                ', 'costa_km'),\n",
       " ('Ciudad de México b/', 'costa_km'),\n",
       " ('Coahuila de Zaragoza', 'costa_km'),\n",
       " ('Durango                  ', 'costa_km'),\n",
       " ('Guanajuato               ', 'costa_km'),\n",
       " ('Hidalgo                  ', 'costa_km'),\n",
       " ('Morelos                  ', 'costa_km'),\n",
       " ('México                   ', 'costa_km'),\n",
       " ('Nuevo León               ', 'costa_km'),\n",
       " ('Puebla                   ', 'costa_km'),\n",
       " ('Querétaro', 'costa_km'),\n",
       " ('Quintana Roo             ', 'prod_azufre_t'),\n",
       " ('Quintana Roo             ', 'prod_barita_t'),\n",
       " ('Quintana Roo             ', 'prod_cobre_t'),\n",
       " ('Quintana Roo             ', 'prod_coque_t'),\n",
       " ('Quintana Roo             ', 'prod_fierropellets_t'),\n",
       " ('Quintana Roo             ', 'prod_fluorita_t'),\n",
       " ('Quintana Roo             ', 'prod_oro_kg'),\n",
       " ('Quintana Roo             ', 'prod_plata_kg'),\n",
       " ('Quintana Roo             ', 'prod_plomo_t'),\n",
       " ('Quintana Roo             ', 'prod_zinc_t'),\n",
       " ('San Luis Potosí', 'costa_km'),\n",
       " ('Tlaxcala                 ', 'costa_km'),\n",
       " ('Zacatecas                ', 'costa_km')}"
      ]
     },
     "execution_count": 108,
     "metadata": {},
     "output_type": "execute_result"
    }
   ],
   "source": [
    "# Finding the row, column pairs that have missing values\n",
    "missing_rows = mdc.find_missing_rows(df, 'entidad', null_cols)\n",
    "missing_rows"
   ]
  },
  {
   "cell_type": "markdown",
   "metadata": {},
   "source": [
    "From the set of states that have nulls for the variable costa_km, it seems that they're all land-locked states. While these values are missing at random, it'll be appropriate to impute them with a zero.\n",
    "\n",
    "From the set of states that have nulls for metal production, the only one is Quintana Roo. It's unlikely that Quintana Roo does not produce any metals -- indeed, there are states with values of zero in those columns. As to why they're missing, it's unlikely that they're related to our ultimate aim of measuring presence of organized crime so we'll impute them using the methods below. \n",
    "\n",
    "But first, to impute missing coastline variables with zeroes."
   ]
  },
  {
   "cell_type": "markdown",
   "metadata": {},
   "source": [
    "### 1) Zero Imputation "
   ]
  },
  {
   "cell_type": "code",
   "execution_count": 115,
   "metadata": {},
   "outputs": [
    {
     "data": {
      "text/plain": [
       "entidad                               0\n",
       "year                                  0\n",
       "alumnos_inscritos_hs                  0\n",
       "hombres_inscritos_hs                  0\n",
       "mujeres_inscritas_hs                  0\n",
       "maestros_hs                           0\n",
       "escuelas_hs                           0\n",
       "convenios_trabajo_no_juicio           0\n",
       "conflictos_trabajo                    0\n",
       "emplazamientos_huelga                 0\n",
       "emplazamientos_huelga_solucionados    0\n",
       "huelgas_estalladas                    0\n",
       "huelgas_locales_solucionadas          0\n",
       "denuncias_total                       0\n",
       "denuncias_salud                       0\n",
       "denuncias_arma                        0\n",
       "denuncias_bancaria                    0\n",
       "denuncias_leyg                        0\n",
       "denuncias_comms                       0\n",
       "denuncias_servpub                     0\n",
       "denuncias_fiscales                    0\n",
       "denuncias_ambiente                    0\n",
       "denuncias_asocdelictuosa              0\n",
       "denuncias_patrimoniales               0\n",
       "denuncias_propintelectual             0\n",
       "denuncias_robocarretera               0\n",
       "denuncias_otras                       0\n",
       "total_carretera_km                    0\n",
       "carretera_pavimentada_km              0\n",
       "carretera_revestida_km                0\n",
       "carretera_terraceria_kg               0\n",
       "brechas_mejoradas_km                  0\n",
       "prod_oro_kg                           7\n",
       "prod_plata_kg                         7\n",
       "prod_plomo_t                          7\n",
       "prod_cobre_t                          7\n",
       "prod_zinc_t                           7\n",
       "prod_coque_t                          7\n",
       "prod_fierropellets_t                  7\n",
       "prod_azufre_t                         7\n",
       "prod_barita_t                         7\n",
       "prod_fluorita_t                       7\n",
       "altitud                               0\n",
       "costa_km                              0\n",
       "municipios                            0\n",
       "pop                                   0\n",
       "dtype: int64"
      ]
     },
     "execution_count": 115,
     "metadata": {},
     "output_type": "execute_result"
    }
   ],
   "source": [
    "# Imputing zeroes for missing variables in costa_km column\n",
    "mdc.impute_zero(df, {'costa_km':0})\n",
    "df.isnull().sum()"
   ]
  },
  {
   "cell_type": "code",
   "execution_count": 116,
   "metadata": {},
   "outputs": [
    {
     "data": {
      "text/html": [
       "<div>\n",
       "<style>\n",
       "    .dataframe thead tr:only-child th {\n",
       "        text-align: right;\n",
       "    }\n",
       "\n",
       "    .dataframe thead th {\n",
       "        text-align: left;\n",
       "    }\n",
       "\n",
       "    .dataframe tbody tr th {\n",
       "        vertical-align: top;\n",
       "    }\n",
       "</style>\n",
       "<table border=\"1\" class=\"dataframe\">\n",
       "  <thead>\n",
       "    <tr style=\"text-align: right;\">\n",
       "      <th></th>\n",
       "      <th>entidad</th>\n",
       "      <th>year</th>\n",
       "      <th>alumnos_inscritos_hs</th>\n",
       "      <th>hombres_inscritos_hs</th>\n",
       "      <th>mujeres_inscritas_hs</th>\n",
       "      <th>maestros_hs</th>\n",
       "      <th>escuelas_hs</th>\n",
       "      <th>convenios_trabajo_no_juicio</th>\n",
       "      <th>conflictos_trabajo</th>\n",
       "      <th>emplazamientos_huelga</th>\n",
       "      <th>...</th>\n",
       "      <th>prod_zinc_t</th>\n",
       "      <th>prod_coque_t</th>\n",
       "      <th>prod_fierropellets_t</th>\n",
       "      <th>prod_azufre_t</th>\n",
       "      <th>prod_barita_t</th>\n",
       "      <th>prod_fluorita_t</th>\n",
       "      <th>altitud</th>\n",
       "      <th>costa_km</th>\n",
       "      <th>municipios</th>\n",
       "      <th>pop</th>\n",
       "    </tr>\n",
       "  </thead>\n",
       "  <tbody>\n",
       "    <tr>\n",
       "      <th>0</th>\n",
       "      <td>Aguascalientes</td>\n",
       "      <td>2010</td>\n",
       "      <td>40129</td>\n",
       "      <td>19250</td>\n",
       "      <td>20879</td>\n",
       "      <td>2727</td>\n",
       "      <td>144</td>\n",
       "      <td>2698</td>\n",
       "      <td>3239</td>\n",
       "      <td>325</td>\n",
       "      <td>...</td>\n",
       "      <td>0.0</td>\n",
       "      <td>0.0</td>\n",
       "      <td>3883423.0</td>\n",
       "      <td>0.0</td>\n",
       "      <td>0.0</td>\n",
       "      <td>0.0</td>\n",
       "      <td>1870</td>\n",
       "      <td>0.0</td>\n",
       "      <td>11</td>\n",
       "      <td>1195787</td>\n",
       "    </tr>\n",
       "    <tr>\n",
       "      <th>1</th>\n",
       "      <td>Baja California</td>\n",
       "      <td>2010</td>\n",
       "      <td>107624</td>\n",
       "      <td>53692</td>\n",
       "      <td>53932</td>\n",
       "      <td>6192</td>\n",
       "      <td>271</td>\n",
       "      <td>2342</td>\n",
       "      <td>9353</td>\n",
       "      <td>3241</td>\n",
       "      <td>...</td>\n",
       "      <td>0.0</td>\n",
       "      <td>0.0</td>\n",
       "      <td>3883423.0</td>\n",
       "      <td>0.0</td>\n",
       "      <td>0.0</td>\n",
       "      <td>0.0</td>\n",
       "      <td>3</td>\n",
       "      <td>1493.0</td>\n",
       "      <td>5</td>\n",
       "      <td>3224843</td>\n",
       "    </tr>\n",
       "    <tr>\n",
       "      <th>2</th>\n",
       "      <td>Baja California Sur</td>\n",
       "      <td>2010</td>\n",
       "      <td>23247</td>\n",
       "      <td>11780</td>\n",
       "      <td>11467</td>\n",
       "      <td>1588</td>\n",
       "      <td>76</td>\n",
       "      <td>1255</td>\n",
       "      <td>1660</td>\n",
       "      <td>296</td>\n",
       "      <td>...</td>\n",
       "      <td>0.0</td>\n",
       "      <td>0.0</td>\n",
       "      <td>3883423.0</td>\n",
       "      <td>0.0</td>\n",
       "      <td>0.0</td>\n",
       "      <td>0.0</td>\n",
       "      <td>10</td>\n",
       "      <td>2131.0</td>\n",
       "      <td>5</td>\n",
       "      <td>649616</td>\n",
       "    </tr>\n",
       "    <tr>\n",
       "      <th>3</th>\n",
       "      <td>Campeche</td>\n",
       "      <td>2010</td>\n",
       "      <td>28350</td>\n",
       "      <td>14349</td>\n",
       "      <td>14001</td>\n",
       "      <td>1975</td>\n",
       "      <td>106</td>\n",
       "      <td>3373</td>\n",
       "      <td>1179</td>\n",
       "      <td>144</td>\n",
       "      <td>...</td>\n",
       "      <td>0.0</td>\n",
       "      <td>0.0</td>\n",
       "      <td>3883423.0</td>\n",
       "      <td>0.0</td>\n",
       "      <td>0.0</td>\n",
       "      <td>0.0</td>\n",
       "      <td>10</td>\n",
       "      <td>425.0</td>\n",
       "      <td>11</td>\n",
       "      <td>836747</td>\n",
       "    </tr>\n",
       "    <tr>\n",
       "      <th>4</th>\n",
       "      <td>Coahuila de Zaragoza</td>\n",
       "      <td>2010</td>\n",
       "      <td>82553</td>\n",
       "      <td>41397</td>\n",
       "      <td>41156</td>\n",
       "      <td>6219</td>\n",
       "      <td>330</td>\n",
       "      <td>23331</td>\n",
       "      <td>7867</td>\n",
       "      <td>545</td>\n",
       "      <td>...</td>\n",
       "      <td>0.0</td>\n",
       "      <td>1648709.0</td>\n",
       "      <td>2567865.0</td>\n",
       "      <td>0.0</td>\n",
       "      <td>22161.0</td>\n",
       "      <td>121833.0</td>\n",
       "      <td>1700</td>\n",
       "      <td>0.0</td>\n",
       "      <td>38</td>\n",
       "      <td>2782012</td>\n",
       "    </tr>\n",
       "  </tbody>\n",
       "</table>\n",
       "<p>5 rows × 46 columns</p>\n",
       "</div>"
      ],
      "text/plain": [
       "                     entidad  year  alumnos_inscritos_hs  \\\n",
       "0  Aguascalientes             2010                 40129   \n",
       "1  Baja California            2010                107624   \n",
       "2        Baja California Sur  2010                 23247   \n",
       "3  Campeche                   2010                 28350   \n",
       "4       Coahuila de Zaragoza  2010                 82553   \n",
       "\n",
       "   hombres_inscritos_hs  mujeres_inscritas_hs  maestros_hs  escuelas_hs  \\\n",
       "0                 19250                 20879         2727          144   \n",
       "1                 53692                 53932         6192          271   \n",
       "2                 11780                 11467         1588           76   \n",
       "3                 14349                 14001         1975          106   \n",
       "4                 41397                 41156         6219          330   \n",
       "\n",
       "   convenios_trabajo_no_juicio  conflictos_trabajo  emplazamientos_huelga  \\\n",
       "0                         2698                3239                    325   \n",
       "1                         2342                9353                   3241   \n",
       "2                         1255                1660                    296   \n",
       "3                         3373                1179                    144   \n",
       "4                        23331                7867                    545   \n",
       "\n",
       "    ...     prod_zinc_t  prod_coque_t  prod_fierropellets_t  prod_azufre_t  \\\n",
       "0   ...             0.0           0.0             3883423.0            0.0   \n",
       "1   ...             0.0           0.0             3883423.0            0.0   \n",
       "2   ...             0.0           0.0             3883423.0            0.0   \n",
       "3   ...             0.0           0.0             3883423.0            0.0   \n",
       "4   ...             0.0     1648709.0             2567865.0            0.0   \n",
       "\n",
       "   prod_barita_t  prod_fluorita_t  altitud costa_km  municipios      pop  \n",
       "0            0.0              0.0     1870      0.0          11  1195787  \n",
       "1            0.0              0.0        3   1493.0           5  3224843  \n",
       "2            0.0              0.0       10   2131.0           5   649616  \n",
       "3            0.0              0.0       10    425.0          11   836747  \n",
       "4        22161.0         121833.0     1700      0.0          38  2782012  \n",
       "\n",
       "[5 rows x 46 columns]"
      ]
     },
     "execution_count": 116,
     "metadata": {},
     "output_type": "execute_result"
    }
   ],
   "source": [
    "df.head()"
   ]
  },
  {
   "cell_type": "markdown",
   "metadata": {},
   "source": [
    "The array and dataframe above shows that we've successfully imputed all missing values for coast_km with zeroes. Next, it's time to explore different imputation methods for the missing metals for Queretaro."
   ]
  },
  {
   "cell_type": "markdown",
   "metadata": {},
   "source": [
    "### 2) Case Deletion "
   ]
  },
  {
   "cell_type": "markdown",
   "metadata": {},
   "source": [
    "Just to track the shape of our database over time and make sure deletion is working, it's important to note that it's 224 rows and 46 columns. "
   ]
  },
  {
   "cell_type": "code",
   "execution_count": 119,
   "metadata": {},
   "outputs": [
    {
     "data": {
      "text/plain": [
       "(224, 46)"
      ]
     },
     "execution_count": 119,
     "metadata": {},
     "output_type": "execute_result"
    }
   ],
   "source": [
    "df.shape"
   ]
  },
  {
   "cell_type": "markdown",
   "metadata": {},
   "source": [
    "With that done, time to delete. We'll start with deleting the rows that have nulls (in this case, all the Quintana Roo entries). We should expect our row number (224) to decrease by seven to 217"
   ]
  },
  {
   "cell_type": "code",
   "execution_count": 130,
   "metadata": {},
   "outputs": [
    {
     "data": {
      "text/plain": [
       "(217, 46)"
      ]
     },
     "execution_count": 130,
     "metadata": {},
     "output_type": "execute_result"
    }
   ],
   "source": [
    "deleted_rows = mdc.case_deletion(df, 'row')\n",
    "deleted_rows.shape"
   ]
  },
  {
   "cell_type": "code",
   "execution_count": 134,
   "metadata": {},
   "outputs": [
    {
     "data": {
      "text/html": [
       "<div>\n",
       "<style>\n",
       "    .dataframe thead tr:only-child th {\n",
       "        text-align: right;\n",
       "    }\n",
       "\n",
       "    .dataframe thead th {\n",
       "        text-align: left;\n",
       "    }\n",
       "\n",
       "    .dataframe tbody tr th {\n",
       "        vertical-align: top;\n",
       "    }\n",
       "</style>\n",
       "<table border=\"1\" class=\"dataframe\">\n",
       "  <thead>\n",
       "    <tr style=\"text-align: right;\">\n",
       "      <th></th>\n",
       "      <th>entidad</th>\n",
       "      <th>year</th>\n",
       "      <th>alumnos_inscritos_hs</th>\n",
       "      <th>hombres_inscritos_hs</th>\n",
       "      <th>mujeres_inscritas_hs</th>\n",
       "      <th>maestros_hs</th>\n",
       "      <th>escuelas_hs</th>\n",
       "      <th>convenios_trabajo_no_juicio</th>\n",
       "      <th>conflictos_trabajo</th>\n",
       "      <th>emplazamientos_huelga</th>\n",
       "      <th>...</th>\n",
       "      <th>prod_zinc_t</th>\n",
       "      <th>prod_coque_t</th>\n",
       "      <th>prod_fierropellets_t</th>\n",
       "      <th>prod_azufre_t</th>\n",
       "      <th>prod_barita_t</th>\n",
       "      <th>prod_fluorita_t</th>\n",
       "      <th>altitud</th>\n",
       "      <th>costa_km</th>\n",
       "      <th>municipios</th>\n",
       "      <th>pop</th>\n",
       "    </tr>\n",
       "  </thead>\n",
       "  <tbody>\n",
       "    <tr>\n",
       "      <th>0</th>\n",
       "      <td>Aguascalientes</td>\n",
       "      <td>2010</td>\n",
       "      <td>40129</td>\n",
       "      <td>19250</td>\n",
       "      <td>20879</td>\n",
       "      <td>2727</td>\n",
       "      <td>144</td>\n",
       "      <td>2698</td>\n",
       "      <td>3239</td>\n",
       "      <td>325</td>\n",
       "      <td>...</td>\n",
       "      <td>0.0</td>\n",
       "      <td>0.0</td>\n",
       "      <td>3883423.0</td>\n",
       "      <td>0.0</td>\n",
       "      <td>0.0</td>\n",
       "      <td>0.0</td>\n",
       "      <td>1870</td>\n",
       "      <td>0.0</td>\n",
       "      <td>11</td>\n",
       "      <td>1195787</td>\n",
       "    </tr>\n",
       "    <tr>\n",
       "      <th>1</th>\n",
       "      <td>Baja California</td>\n",
       "      <td>2010</td>\n",
       "      <td>107624</td>\n",
       "      <td>53692</td>\n",
       "      <td>53932</td>\n",
       "      <td>6192</td>\n",
       "      <td>271</td>\n",
       "      <td>2342</td>\n",
       "      <td>9353</td>\n",
       "      <td>3241</td>\n",
       "      <td>...</td>\n",
       "      <td>0.0</td>\n",
       "      <td>0.0</td>\n",
       "      <td>3883423.0</td>\n",
       "      <td>0.0</td>\n",
       "      <td>0.0</td>\n",
       "      <td>0.0</td>\n",
       "      <td>3</td>\n",
       "      <td>1493.0</td>\n",
       "      <td>5</td>\n",
       "      <td>3224843</td>\n",
       "    </tr>\n",
       "    <tr>\n",
       "      <th>2</th>\n",
       "      <td>Baja California Sur</td>\n",
       "      <td>2010</td>\n",
       "      <td>23247</td>\n",
       "      <td>11780</td>\n",
       "      <td>11467</td>\n",
       "      <td>1588</td>\n",
       "      <td>76</td>\n",
       "      <td>1255</td>\n",
       "      <td>1660</td>\n",
       "      <td>296</td>\n",
       "      <td>...</td>\n",
       "      <td>0.0</td>\n",
       "      <td>0.0</td>\n",
       "      <td>3883423.0</td>\n",
       "      <td>0.0</td>\n",
       "      <td>0.0</td>\n",
       "      <td>0.0</td>\n",
       "      <td>10</td>\n",
       "      <td>2131.0</td>\n",
       "      <td>5</td>\n",
       "      <td>649616</td>\n",
       "    </tr>\n",
       "    <tr>\n",
       "      <th>3</th>\n",
       "      <td>Campeche</td>\n",
       "      <td>2010</td>\n",
       "      <td>28350</td>\n",
       "      <td>14349</td>\n",
       "      <td>14001</td>\n",
       "      <td>1975</td>\n",
       "      <td>106</td>\n",
       "      <td>3373</td>\n",
       "      <td>1179</td>\n",
       "      <td>144</td>\n",
       "      <td>...</td>\n",
       "      <td>0.0</td>\n",
       "      <td>0.0</td>\n",
       "      <td>3883423.0</td>\n",
       "      <td>0.0</td>\n",
       "      <td>0.0</td>\n",
       "      <td>0.0</td>\n",
       "      <td>10</td>\n",
       "      <td>425.0</td>\n",
       "      <td>11</td>\n",
       "      <td>836747</td>\n",
       "    </tr>\n",
       "    <tr>\n",
       "      <th>4</th>\n",
       "      <td>Coahuila de Zaragoza</td>\n",
       "      <td>2010</td>\n",
       "      <td>82553</td>\n",
       "      <td>41397</td>\n",
       "      <td>41156</td>\n",
       "      <td>6219</td>\n",
       "      <td>330</td>\n",
       "      <td>23331</td>\n",
       "      <td>7867</td>\n",
       "      <td>545</td>\n",
       "      <td>...</td>\n",
       "      <td>0.0</td>\n",
       "      <td>1648709.0</td>\n",
       "      <td>2567865.0</td>\n",
       "      <td>0.0</td>\n",
       "      <td>22161.0</td>\n",
       "      <td>121833.0</td>\n",
       "      <td>1700</td>\n",
       "      <td>0.0</td>\n",
       "      <td>38</td>\n",
       "      <td>2782012</td>\n",
       "    </tr>\n",
       "  </tbody>\n",
       "</table>\n",
       "<p>5 rows × 46 columns</p>\n",
       "</div>"
      ],
      "text/plain": [
       "                     entidad  year  alumnos_inscritos_hs  \\\n",
       "0  Aguascalientes             2010                 40129   \n",
       "1  Baja California            2010                107624   \n",
       "2        Baja California Sur  2010                 23247   \n",
       "3  Campeche                   2010                 28350   \n",
       "4       Coahuila de Zaragoza  2010                 82553   \n",
       "\n",
       "   hombres_inscritos_hs  mujeres_inscritas_hs  maestros_hs  escuelas_hs  \\\n",
       "0                 19250                 20879         2727          144   \n",
       "1                 53692                 53932         6192          271   \n",
       "2                 11780                 11467         1588           76   \n",
       "3                 14349                 14001         1975          106   \n",
       "4                 41397                 41156         6219          330   \n",
       "\n",
       "   convenios_trabajo_no_juicio  conflictos_trabajo  emplazamientos_huelga  \\\n",
       "0                         2698                3239                    325   \n",
       "1                         2342                9353                   3241   \n",
       "2                         1255                1660                    296   \n",
       "3                         3373                1179                    144   \n",
       "4                        23331                7867                    545   \n",
       "\n",
       "    ...     prod_zinc_t  prod_coque_t  prod_fierropellets_t  prod_azufre_t  \\\n",
       "0   ...             0.0           0.0             3883423.0            0.0   \n",
       "1   ...             0.0           0.0             3883423.0            0.0   \n",
       "2   ...             0.0           0.0             3883423.0            0.0   \n",
       "3   ...             0.0           0.0             3883423.0            0.0   \n",
       "4   ...             0.0     1648709.0             2567865.0            0.0   \n",
       "\n",
       "   prod_barita_t  prod_fluorita_t  altitud costa_km  municipios      pop  \n",
       "0            0.0              0.0     1870      0.0          11  1195787  \n",
       "1            0.0              0.0        3   1493.0           5  3224843  \n",
       "2            0.0              0.0       10   2131.0           5   649616  \n",
       "3            0.0              0.0       10    425.0          11   836747  \n",
       "4        22161.0         121833.0     1700      0.0          38  2782012  \n",
       "\n",
       "[5 rows x 46 columns]"
      ]
     },
     "execution_count": 134,
     "metadata": {},
     "output_type": "execute_result"
    }
   ],
   "source": [
    "deleted_rows.head()"
   ]
  },
  {
   "cell_type": "markdown",
   "metadata": {},
   "source": [
    "Now we'll try deleting the columns that have nulls (in this case, all the metals). We should expect our column number (46) to decrease by ten to 36."
   ]
  },
  {
   "cell_type": "code",
   "execution_count": 131,
   "metadata": {},
   "outputs": [
    {
     "data": {
      "text/plain": [
       "(224, 36)"
      ]
     },
     "execution_count": 131,
     "metadata": {},
     "output_type": "execute_result"
    }
   ],
   "source": [
    "deleted_columns = mdc.case_deletion(df, 'column')\n",
    "deleted_columns.shape"
   ]
  },
  {
   "cell_type": "code",
   "execution_count": 133,
   "metadata": {},
   "outputs": [
    {
     "data": {
      "text/plain": [
       "Index(['entidad', 'year', 'alumnos_inscritos_hs', 'hombres_inscritos_hs',\n",
       "       'mujeres_inscritas_hs', 'maestros_hs', 'escuelas_hs',\n",
       "       'convenios_trabajo_no_juicio', 'conflictos_trabajo',\n",
       "       'emplazamientos_huelga', 'emplazamientos_huelga_solucionados',\n",
       "       'huelgas_estalladas', 'huelgas_locales_solucionadas', 'denuncias_total',\n",
       "       'denuncias_salud', 'denuncias_arma', 'denuncias_bancaria',\n",
       "       'denuncias_leyg', 'denuncias_comms', 'denuncias_servpub',\n",
       "       'denuncias_fiscales', 'denuncias_ambiente', 'denuncias_asocdelictuosa',\n",
       "       'denuncias_patrimoniales', 'denuncias_propintelectual',\n",
       "       'denuncias_robocarretera', 'denuncias_otras', 'total_carretera_km',\n",
       "       'carretera_pavimentada_km', 'carretera_revestida_km',\n",
       "       'carretera_terraceria_kg', 'brechas_mejoradas_km', 'altitud',\n",
       "       'costa_km', 'municipios', 'pop'],\n",
       "      dtype='object')"
      ]
     },
     "execution_count": 133,
     "metadata": {},
     "output_type": "execute_result"
    }
   ],
   "source": [
    "deleted_columns.columns"
   ]
  },
  {
   "cell_type": "markdown",
   "metadata": {},
   "source": [
    "Pretty straightforward. We now have two dataframes:\n",
    "- deleted_rows is the dataframe with all the rows with missing values deleted\n",
    "- deleted_columns in the dataframe with all the columns with missing values deleted\n",
    "\n",
    "There is a rule of thumb in deleting rows or columns as a way to deal with missing values: **if a variable has more than 5% of it's values missing, do not delete**\n",
    "\n",
    "While our current example meets the parameters of the rule of thumb, it's important to note that this is not the ideal way to deal with missing values, particularly in an index such as this.\n",
    "\n",
    "That's why I'll now go through other forms of imputing missing variables. Starting with median imputation."
   ]
  },
  {
   "cell_type": "markdown",
   "metadata": {},
   "source": [
    "### 3) Median Imputation "
   ]
  },
  {
   "cell_type": "markdown",
   "metadata": {},
   "source": [
    "We'll go back to using our original dataframe -- df"
   ]
  },
  {
   "cell_type": "code",
   "execution_count": null,
   "metadata": {
    "collapsed": true
   },
   "outputs": [],
   "source": [
    "median_df = md"
   ]
  }
 ],
 "metadata": {
  "kernelspec": {
   "display_name": "Python 3",
   "language": "python",
   "name": "python3"
  },
  "language_info": {
   "codemirror_mode": {
    "name": "ipython",
    "version": 3
   },
   "file_extension": ".py",
   "mimetype": "text/x-python",
   "name": "python",
   "nbconvert_exporter": "python",
   "pygments_lexer": "ipython3",
   "version": "3.6.3"
  }
 },
 "nbformat": 4,
 "nbformat_minor": 2
}
